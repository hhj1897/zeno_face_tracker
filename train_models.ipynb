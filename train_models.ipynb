{
 "cells": [
  {
   "cell_type": "markdown",
   "metadata": {},
   "source": [
    "# train_models\n",
    "\n",
    "Train the face detection and landmark localisation models for Zeno's face based on our annotation."
   ]
  },
  {
   "cell_type": "markdown",
   "metadata": {},
   "source": [
    "## Step 1: Import models"
   ]
  },
  {
   "cell_type": "code",
   "execution_count": 1,
   "metadata": {},
   "outputs": [
    {
     "name": "stdout",
     "output_type": "stream",
     "text": [
      "All modules imported.\n"
     ]
    }
   ],
   "source": [
    "import os\n",
    "import cv2\n",
    "import sys\n",
    "import glob\n",
    "import dlib\n",
    "import time\n",
    "import numpy as np\n",
    "import pandas as pd\n",
    "import matplotlib.pyplot as plt\n",
    "from zeno_face_tracker_helpers import *\n",
    "try:\n",
    "    from ConfigParser import ConfigParser    # If using Python 2.7\n",
    "except ImportError:\n",
    "    from configparser import ConfigParser    # If using Python 3.5\n",
    "config = ConfigParser()\n",
    "config.read('config.ini')\n",
    "sys.path.append(os.path.realpath(config.get('zeno_interface', 'repository_path')))\n",
    "from video_sources import *\n",
    "from zeno_interface import *\n",
    "sys.path.append(os.path.realpath(config.get('facial_landmark_tracker', 'repository_path')))\n",
    "from ibug_face_tracker import *\n",
    "print('All modules imported.')"
   ]
  },
  {
   "cell_type": "markdown",
   "metadata": {},
   "source": [
    "## Step 2: Load and prepare the dataset for face detection"
   ]
  },
  {
   "cell_type": "code",
   "execution_count": 2,
   "metadata": {},
   "outputs": [
    {
     "name": "stdout",
     "output_type": "stream",
     "text": [
      "343 training examples and 131 test examples have been loaded.\n",
      "All 343 training examples and 172 test examples have been loaded.\n"
     ]
    }
   ],
   "source": [
    "# Load annotation and mete-data\n",
    "train_set = pd.read_pickle(os.path.realpath(os.path.join('./dataset', 'train.pkl')))\n",
    "test_set = pd.read_pickle(os.path.realpath(os.path.join('./dataset', 'test.pkl')))\n",
    "\n",
    "# Load images and prepare the data structures\n",
    "train_images = []\n",
    "test_images = []\n",
    "images = [train_images, test_images]\n",
    "train_face_boxes = []\n",
    "test_face_boxes = []\n",
    "face_boxes = [train_face_boxes, test_face_boxes]\n",
    "datasets = [train_set, test_set]\n",
    "last_check_time = time.time()\n",
    "for dataset_idx, dataset in enumerate(datasets):\n",
    "    for idx in range(dataset.shape[0]):\n",
    "        sample = dataset.iloc[idx]\n",
    "        image_path = os.path.realpath(os.path.join('./dataset', sample['session'], \n",
    "                                                   '%06d.png' % sample['index']))\n",
    "        images[dataset_idx].append(cv2.cvtColor(cv2.imread(image_path), cv2.COLOR_BGR2GRAY))\n",
    "        face_boxes[dataset_idx].append([dlib.rectangle(sample['face_box'][0], sample['face_box'][1], \n",
    "                                                       sample['face_box'][0] + sample['face_box'][2] - 1, \n",
    "                                                       sample['face_box'][1] + sample['face_box'][3] - 1)])\n",
    "        current_time = time.time()\n",
    "        if last_check_time < current_time - 10.0:\n",
    "            last_check_time = current_time\n",
    "            print('%d training examples and %d test examples have been loaded.' % \n",
    "                  (len(train_images), len(test_images)))\n",
    "print('All %d training examples and %d test examples have been loaded.' % \n",
    "      (len(train_images), len(test_images)))"
   ]
  },
  {
   "cell_type": "markdown",
   "metadata": {},
   "source": [
    "## Step 3: Test dlib face detector on the test set"
   ]
  },
  {
   "cell_type": "code",
   "execution_count": 3,
   "metadata": {},
   "outputs": [
    {
     "name": "stdout",
     "output_type": "stream",
     "text": [
      "This is what dlib.test_simple_object_detector says:\n",
      "precision: 1, recall: 0.732558, average precision: 0.732558\n",
      "126 of 172 faces (0.007%) have been detected, with m-IOU=0.591.\n"
     ]
    },
    {
     "data": {
      "image/png": "[encoded data removed]",
      "text/plain": [
       "<Figure size 432x288 with 1 Axes>"
      ]
     },
     "metadata": {},
     "output_type": "display_data"
    }
   ],
   "source": [
    "%matplotlib inline\n",
    "\n",
    "# First test it on the test set\n",
    "dlib_face_detector = dlib.get_frontal_face_detector()\n",
    "print('This is what dlib.test_simple_object_detector says:')\n",
    "print(dlib.test_simple_object_detector(test_images, test_face_boxes, dlib_face_detector))\n",
    "not_detected = 0\n",
    "ious = []\n",
    "for idx in range(len(test_images)):\n",
    "    detections = sorted([face for face in dlib_face_detector(test_images[idx])], \n",
    "                        key=dlib.rectangle.area, reverse=True)\n",
    "    if len(detections) > 0:\n",
    "        intersection = detections[0].intersect(test_face_boxes[idx][0]).area()\n",
    "        union = dlib.rectangle(min(detections[0].left(), test_face_boxes[idx][0].left()), \n",
    "                               min(detections[0].top(), test_face_boxes[idx][0].top()), \n",
    "                               max(detections[0].right(), test_face_boxes[idx][0].right()), \n",
    "                               max(detections[0].bottom(), test_face_boxes[idx][0].bottom())).area()\n",
    "        iou = float(intersection) / float(union)\n",
    "    else:\n",
    "        iou = 0.0\n",
    "        not_detected += 1\n",
    "    ious.append(iou)\n",
    "print('%d of %d faces (%.3f%%) have been detected, with m-IOU=%.3f.' % \n",
    "      ((len(test_images) - not_detected), \n",
    "       len(test_images), \n",
    "       float(len(test_images) - not_detected) / float(len(test_images) * 100.0), \n",
    "       np.mean(ious)))\n",
    "iou_errors = sorted([1.0 - x for x in ious])\n",
    "plt.plot(iou_errors, np.arange(len(iou_errors)) / float(len(iou_errors)))\n",
    "plt.title('CED curve of IOU errors')\n",
    "plt.show()"
   ]
  },
  {
   "cell_type": "markdown",
   "metadata": {},
   "source": [
    "## Step 4: Train a face detector for Zeno"
   ]
  },
  {
   "cell_type": "code",
   "execution_count": 100,
   "metadata": {},
   "outputs": [
    {
     "name": "stdout",
     "output_type": "stream",
     "text": [
      "Face detector model has been trained and saved to: D:\\hhj\\zeno_face_tracker\\models\\zeno_face_detector.model\n"
     ]
    }
   ],
   "source": [
    "config.read('config.ini')\n",
    "options = dlib.simple_object_detector_training_options()\n",
    "options.be_verbose = config.getboolean('simple_object_detector_training_options', 'be_verbose')\n",
    "options.add_left_right_image_flips = config.getboolean('simple_object_detector_training_options', \n",
    "                                                       'add_left_right_image_flips')\n",
    "options.num_threads = config.getint('simple_object_detector_training_options', 'num_threads')\n",
    "options.detection_window_size = config.getint('simple_object_detector_training_options', \n",
    "                                              'detection_window_size')\n",
    "options.C = config.getfloat('simple_object_detector_training_options', 'C')\n",
    "options.epsilon = config.getfloat('simple_object_detector_training_options', 'epsilon')\n",
    "options.upsample_limit = config.getint('simple_object_detector_training_options', \n",
    "                                       'upsample_limit')\n",
    "options.nuclear_norm_regularization_strength = config.getfloat('simple_object_detector_training_options', \n",
    "                                                               'nuclear_norm_regularization_strength')\n",
    "\n",
    "# face_detector = dlib.train_simple_object_detector(train_images, train_face_boxes, options)\n",
    "\n",
    "face_detector = dlib.train_simple_object_detector(train_images + test_images, \n",
    "                                                  train_face_boxes + test_face_boxes, \n",
    "                                                  options)\n",
    "\n",
    "face_detector_model_path = os.path.realpath(os.path.join('./models', 'zeno_face_detector.model'))\n",
    "face_detector.save(face_detector_model_path)\n",
    "print('Face detector model has been trained and saved to: ' + face_detector_model_path)"
   ]
  },
  {
   "cell_type": "markdown",
   "metadata": {},
   "source": [
    "## Step 5: Test the trained face detector on the test set"
   ]
  },
  {
   "cell_type": "code",
   "execution_count": 61,
   "metadata": {},
   "outputs": [
    {
     "name": "stdout",
     "output_type": "stream",
     "text": [
      "This is what dlib.test_simple_object_detector says:\n",
      "precision: 1, recall: 1, average precision: 1\n",
      "172 of 172 faces (0.010%) have been detected, with m-IOU=0.817.\n"
     ]
    },
    {
     "data": {
      "image/png": "[encoded data removed]",
      "text/plain": [
       "<Figure size 432x288 with 1 Axes>"
      ]
     },
     "metadata": {},
     "output_type": "display_data"
    }
   ],
   "source": [
    "%matplotlib inline\n",
    "\n",
    "# First test it on the test set\n",
    "face_detector_model_path = os.path.realpath(os.path.join('./models', 'zeno_face_detector.model'))\n",
    "face_detector = dlib.fhog_object_detector(face_detector_model_path)\n",
    "print('This is what dlib.test_simple_object_detector says:')\n",
    "print(dlib.test_simple_object_detector(test_images, test_face_boxes, face_detector))\n",
    "not_detected = 0\n",
    "ious = []\n",
    "for idx in range(len(test_images)):\n",
    "    detections = sorted([face for face in face_detector(test_images[idx])], \n",
    "                        key=dlib.rectangle.area, reverse=True)\n",
    "    if len(detections) > 0:\n",
    "        intersection = detections[0].intersect(test_face_boxes[idx][0]).area()\n",
    "        union = dlib.rectangle(min(detections[0].left(), test_face_boxes[idx][0].left()), \n",
    "                               min(detections[0].top(), test_face_boxes[idx][0].top()), \n",
    "                               max(detections[0].right(), test_face_boxes[idx][0].right()), \n",
    "                               max(detections[0].bottom(), test_face_boxes[idx][0].bottom())).area()\n",
    "        iou = float(intersection) / float(union)\n",
    "    else:\n",
    "        iou = 0.0\n",
    "        not_detected += 1\n",
    "    ious.append(iou)\n",
    "print('%d of %d faces (%.3f%%) have been detected, with m-IOU=%.3f.' % \n",
    "      ((len(test_images) - not_detected), \n",
    "       len(test_images), \n",
    "       float(len(test_images) - not_detected) / float(len(test_images) * 100.0), \n",
    "       np.mean(ious)))\n",
    "iou_errors = sorted([1.0 - x for x in ious])\n",
    "plt.plot(iou_errors, np.arange(len(iou_errors)) / float(len(iou_errors)))\n",
    "plt.title('CED curve of IOU errors')\n",
    "plt.grid(which='both')\n",
    "plt.show()"
   ]
  },
  {
   "cell_type": "markdown",
   "metadata": {},
   "source": [
    "## Step 6: Prepare the dataset for landmark localisation (49 and 68 points)"
   ]
  },
  {
   "cell_type": "code",
   "execution_count": 24,
   "metadata": {},
   "outputs": [
    {
     "name": "stdout",
     "output_type": "stream",
     "text": [
      "135 training examples and 0 test examples have been prepared.\n",
      "261 training examples and 0 test examples have been prepared.\n",
      "343 training examples and 53 test examples have been prepared.\n",
      "All 343 training examples and 172 test examples have been prepared.\n",
      "Flipped examples have also been added.\n"
     ]
    }
   ],
   "source": [
    "images = [train_images, test_images]\n",
    "train_landmarks_68 = []\n",
    "test_landmarks_68 = []\n",
    "landmarks68 = [train_landmarks_68, test_landmarks_68]\n",
    "train_landmarks_49 = []\n",
    "test_landmarks_49 = []\n",
    "landmarks49 = [train_landmarks_49, test_landmarks_49]\n",
    "face_detector_model_path = os.path.realpath(os.path.join('./models', 'zeno_face_detector.model'))\n",
    "face_detector = dlib.fhog_object_detector(face_detector_model_path)\n",
    "last_check_time = time.time()\n",
    "for dataset_idx, dataset in enumerate(datasets):\n",
    "    for idx in range(dataset.shape[0]):\n",
    "        sample = dataset.iloc[idx]\n",
    "        image = images[dataset_idx][idx]\n",
    "        detections = sorted([face for face in face_detector(image)], \n",
    "                            key=dlib.rectangle.area, reverse=True)\n",
    "        face_box = detections[0]\n",
    "        pts68 = [dlib.point(int(round(pts[0])), int(round(pts[1]))) for pts in sample['landmarks']]\n",
    "        pts49 = pts68[17:60] + pts68[61:64] + pts68[65:]\n",
    "        landmarks68[dataset_idx].append([dlib.full_object_detection(face_box, pts68)])\n",
    "        landmarks49[dataset_idx].append([dlib.full_object_detection(face_box, pts49)])\n",
    "        current_time = time.time()\n",
    "        if last_check_time < current_time - 10.0:\n",
    "            last_check_time = current_time\n",
    "            print('%d training examples and %d test examples have been prepared.' % \n",
    "                  (len(train_landmarks_49), len(test_landmarks_49)))\n",
    "print('All %d training examples and %d test examples have been prepared.' % \n",
    "      (len(train_landmarks_49), len(test_landmarks_49)))\n",
    "\n",
    "# Add left-right flipped examples\n",
    "enhanced_train_images = train_images[:]\n",
    "enhanced_test_images = test_images[:]\n",
    "enhanced_images = [enhanced_train_images, enhanced_test_images]\n",
    "flipped_indices_68 = (list(range(16, -1, -1)) + list(range(26, 16, -1)) + \n",
    "                      list(range(27, 31)) + list(range(35, 30, -1)) + \n",
    "                      [45, 44, 43, 42, 47, 46, 39, 38, 37, 36, 41, 40] + \n",
    "                      list(range(54, 47, -1)) + list(range(59, 54, -1)) + \n",
    "                      [64, 63, 62, 61, 60, 67, 66, 65])\n",
    "flipped_indices_49 = (list(range(9, -1, -1)) + list(range(10, 14)) + list(range(18, 13, -1)) + \n",
    "                      [29, 27, 26, 25, 30, 29, 22, 21, 20, 19, 24, 23] + \n",
    "                      list(range(37, 30, -1)) + list(range(42, 37, -1)) + \n",
    "                      [45, 44, 43, 48, 47, 46])\n",
    "for dataset_idx, image_set in enumerate(images):\n",
    "    for idx, image in enumerate(image_set):\n",
    "        face_box = landmarks68[dataset_idx][idx][0].rect\n",
    "        flipped_face_box = dlib.rectangle(image.shape[1] - 1 - face_box.right(), face_box.top(), \n",
    "                                          image.shape[1] - 1 - face_box.left(), face_box.bottom())\n",
    "        flipped_pts68 = [dlib.point(image.shape[1] - 1 - pts.x, pts.y) for \n",
    "                         pts in landmarks68[dataset_idx][idx][0].parts()]\n",
    "        flipped_pts68 = [flipped_pts68[i] for i in flipped_indices_68]\n",
    "        flipped_pts49 = [dlib.point(image.shape[1] - 1 - pts.x, pts.y) for \n",
    "                         pts in landmarks49[dataset_idx][idx][0].parts()]\n",
    "        flipped_pts49 = [flipped_pts49[i] for i in flipped_indices_49]\n",
    "        landmarks68[dataset_idx].append([dlib.full_object_detection(flipped_face_box, flipped_pts68)])\n",
    "        landmarks49[dataset_idx].append([dlib.full_object_detection(flipped_face_box, flipped_pts49)])\n",
    "        enhanced_images[dataset_idx].append(cv2.flip(image, 1))\n",
    "print('Flipped examples have also been added.')"
   ]
  },
  {
   "cell_type": "markdown",
   "metadata": {},
   "source": [
    "## Step 7: Train the shape predictors"
   ]
  },
  {
   "cell_type": "code",
   "execution_count": 73,
   "metadata": {},
   "outputs": [
    {
     "name": "stdout",
     "output_type": "stream",
     "text": [
      "A shape predictor model has been trained and saved to: D:\\hhj\\zeno_face_tracker\\models\\zeno_landmark_tracker_68.model\n",
      "A shape predictor model has been trained and saved to: D:\\hhj\\zeno_face_tracker\\models\\zeno_landmark_tracker_49.model\n"
     ]
    }
   ],
   "source": [
    "config.read('config.ini')\n",
    "suffixes = ['_68', '_49']\n",
    "train_landmarks = [train_landmarks_68, train_landmarks_49]\n",
    "for dataset_idx, landmarks in enumerate(train_landmarks):\n",
    "    options = dlib.shape_predictor_training_options()\n",
    "    options.be_verbose = config.getint('shape_predictor_training_options' + suffixes[dataset_idx], \n",
    "                                       'be_verbose')\n",
    "    options.cascade_depth = config.getint('shape_predictor_training_options' + suffixes[dataset_idx], \n",
    "                                          'cascade_depth')\n",
    "    options.tree_depth = config.getint('shape_predictor_training_options' + suffixes[dataset_idx], \n",
    "                                       'tree_depth')\n",
    "    options.num_trees_per_cascade_level = config.getint('shape_predictor_training_options' + suffixes[dataset_idx], \n",
    "                                                        'num_trees_per_cascade_level')\n",
    "    options.nu = config.getfloat('shape_predictor_training_options' + suffixes[dataset_idx], 'nu')\n",
    "    options.oversampling_amount = config.getint('shape_predictor_training_options' + suffixes[dataset_idx], \n",
    "                                                'oversampling_amount')\n",
    "    options.oversampling_translation_jitter = config.getfloat('shape_predictor_training_options' + \n",
    "                                                              suffixes[dataset_idx], \n",
    "                                                              'oversampling_translation_jitter')\n",
    "    options.feature_pool_size = config.getint('shape_predictor_training_options' + suffixes[dataset_idx], \n",
    "                                              'feature_pool_size')\n",
    "    options.lambda_param = config.getfloat('shape_predictor_training_options' + suffixes[dataset_idx], \n",
    "                                           'lambda_param')\n",
    "    options.num_test_splits = config.getint('shape_predictor_training_options' + suffixes[dataset_idx], \n",
    "                                            'num_test_splits')\n",
    "    options.feature_pool_region_padding = config.getfloat('shape_predictor_training_options' + \n",
    "                                                          suffixes[dataset_idx], \n",
    "                                                          'feature_pool_region_padding')\n",
    "    options.num_threads = config.getint('shape_predictor_training_options' + suffixes[dataset_idx], \n",
    "                                        'num_threads')\n",
    "    options.landmark_relative_padding_mode = config.getint('shape_predictor_training_options' + \n",
    "                                                           suffixes[dataset_idx], \n",
    "                                                           'landmark_relative_padding_mode')\n",
    "    \n",
    "#     shape_predictor = dlib.train_shape_predictor(enhanced_train_images, train_landmarks[dataset_idx], options)\n",
    "    \n",
    "    shape_predictor = dlib.train_shape_predictor(enhanced_train_images + enhanced_test_images, \n",
    "                                                 train_landmarks[dataset_idx] + test_landmarks[dataset_idx], \n",
    "                                                 options)\n",
    "    \n",
    "    shape_predictor_model_path = os.path.realpath(os.path.join(\n",
    "        './models', 'zeno_landmark_tracker' + suffixes[dataset_idx] + '.model'))\n",
    "    shape_predictor.save(shape_predictor_model_path)\n",
    "    print('A shape predictor model has been trained and saved to: ' + shape_predictor_model_path)"
   ]
  },
  {
   "cell_type": "markdown",
   "metadata": {},
   "source": [
    "## Step 8: Test the shape predictors on the test set"
   ]
  },
  {
   "cell_type": "code",
   "execution_count": 74,
   "metadata": {
    "scrolled": false
   },
   "outputs": [
    {
     "name": "stdout",
     "output_type": "stream",
     "text": [
      "Shape predictors loaded.\n",
      "Mean error for the 68 landmark model: 0.006807\n"
     ]
    },
    {
     "data": {
      "image/png": "[encoded data removed]",
      "text/plain": [
       "<Figure size 432x288 with 1 Axes>"
      ]
     },
     "metadata": {},
     "output_type": "display_data"
    },
    {
     "name": "stdout",
     "output_type": "stream",
     "text": [
      "Mean error for the 68 landmark model on 49 landmarks: 0.006316\n"
     ]
    },
    {
     "data": {
      "image/png": "[encoded data removed]",
      "text/plain": [
       "<Figure size 432x288 with 1 Axes>"
      ]
     },
     "metadata": {},
     "output_type": "display_data"
    },
    {
     "name": "stdout",
     "output_type": "stream",
     "text": [
      "Mean error for the 49 landmark model: 0.005702\n"
     ]
    },
    {
     "data": {
      "image/png": "[encoded data removed]",
      "text/plain": [
       "<Figure size 432x288 with 1 Axes>"
      ]
     },
     "metadata": {},
     "output_type": "display_data"
    }
   ],
   "source": [
    "%matplotlib inline\n",
    "\n",
    "def calculate_error(groundtruth, prediction):\n",
    "    if groundtruth.shape[0] == 68:\n",
    "        interocular_distance = np.linalg.norm(groundtruth[45] - groundtruth[36])\n",
    "    elif groundtruth.shape[0] == 49:\n",
    "        interocular_distance = np.linalg.norm(groundtruth[28] - groundtruth[19])\n",
    "    else:\n",
    "        interocular_distance = 1.0\n",
    "    difference = prediction - groundtruth\n",
    "    return np.mean([np.linalg.norm(x) for x in difference]) / interocular_distance\n",
    "\n",
    "\n",
    "config.read('config.ini')\n",
    "suffixes = ['_68', '_49']\n",
    "shape_predictor_model_paths = [os.path.realpath(os.path.join(\n",
    "    './models', 'zeno_landmark_tracker' + suffix + '.model')) for suffix in suffixes]\n",
    "shape_predictors = [FaceTracker(model_path, os.path.realpath(config.get(\n",
    "    'facial_landmark_tracker', 'auxiliary_model_path'))) for model_path in shape_predictor_model_paths]\n",
    "for predictor in shape_predictors:\n",
    "    predictor.eye_iterations = 0\n",
    "    predictor.estimate_head_pose = False\n",
    "    predictor.failure_detection_interval = 0\n",
    "print('Shape predictors loaded.')\n",
    "\n",
    "# Test the predictors\n",
    "errors68 = []\n",
    "errors68_49 = []\n",
    "errors49 = []\n",
    "test_landmarks = [test_landmarks_68, test_landmarks_49]\n",
    "for predictor_idx, predictor in enumerate(shape_predictors):\n",
    "    for idx, image in enumerate(enhanced_test_images):\n",
    "        face_box = test_landmarks[predictor_idx][idx][0].rect\n",
    "        predictor.track(image, (face_box.left(), face_box.top(), face_box.width(), face_box.height()))\n",
    "        groundtruth = np.array([[pts.x for pts in test_landmarks[predictor_idx][idx][0].parts()], \n",
    "                                [pts.y for pts in test_landmarks[predictor_idx][idx][0].parts()]], dtype=float).T\n",
    "        prediction = predictor.facial_landmarks\n",
    "        error = calculate_error(groundtruth, prediction)\n",
    "        if predictor_idx == 0:\n",
    "            errors68.append(error)\n",
    "        else:\n",
    "            errors49.append(error)\n",
    "        if groundtruth.shape[0] == 68:\n",
    "            error49 = calculate_error(groundtruth[list(range(17, 60)) + list(range(61, 64)) + list(range(65, 68))], \n",
    "                                      prediction[list(range(17, 60)) + list(range(61, 64)) + list(range(65, 68))])\n",
    "            errors68_49.append(error49)\n",
    "print('Mean error for the 68 landmark model: %f' % np.mean(errors68))\n",
    "plt.plot(sorted(errors68), np.arange(len(errors68)) / float(len(errors68)))\n",
    "plt.title('CED curve of the 68 landmark model')\n",
    "plt.grid(which='both')\n",
    "plt.xlim(0.0, 0.1)\n",
    "plt.show()\n",
    "print('Mean error for the 68 landmark model on 49 landmarks: %f' % np.mean(errors68_49))\n",
    "plt.plot(sorted(errors68_49), np.arange(len(errors68_49)) / float(len(errors68_49)))\n",
    "plt.title('CED curve of the 68 landmark model on 49 landmarks')\n",
    "plt.grid(which='both')\n",
    "plt.xlim(0.0, 0.1)\n",
    "plt.show()\n",
    "print('Mean error for the 49 landmark model: %f' % np.mean(errors49))\n",
    "plt.plot(sorted(errors49), np.arange(len(errors49)) / float(len(errors49)))\n",
    "plt.title('CED curve of the 49 landmark model')\n",
    "plt.grid(which='both')\n",
    "plt.xlim(0.0, 0.1)\n",
    "plt.show()"
   ]
  },
  {
   "cell_type": "code",
   "execution_count": null,
   "metadata": {},
   "outputs": [],
   "source": []
  }
 ],
 "metadata": {
  "kernelspec": {
   "display_name": "Python 3",
   "language": "python",
   "name": "python3"
  },
  "language_info": {
   "codemirror_mode": {
    "name": "ipython",
    "version": 3
   },
   "file_extension": ".py",
   "mimetype": "text/x-python",
   "name": "python",
   "nbconvert_exporter": "python",
   "pygments_lexer": "ipython3",
   "version": "3.5.5"
  }
 },
 "nbformat": 4,
 "nbformat_minor": 2
}
