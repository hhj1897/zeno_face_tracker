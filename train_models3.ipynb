{
 "cells": [
  {
   "cell_type": "markdown",
   "metadata": {},
   "source": [
    "## train_models3\n",
    "\n",
    "Train the models for mirroring - 2nd attemp!"
   ]
  },
  {
   "cell_type": "markdown",
   "metadata": {},
   "source": [
    "## Step 1: Import modules"
   ]
  },
  {
   "cell_type": "code",
   "execution_count": 57,
   "metadata": {},
   "outputs": [
    {
     "name": "stdout",
     "output_type": "stream",
     "text": [
      "All modules imported.\n"
     ]
    }
   ],
   "source": [
    "import os\n",
    "import sys\n",
    "import glob\n",
    "import time\n",
    "import pickle\n",
    "import importlib\n",
    "import matplotlib\n",
    "import numpy as np\n",
    "import pandas as pd\n",
    "import matplotlib.pyplot as plt\n",
    "from zeno_face_tracker_helpers import *\n",
    "try:\n",
    "    from ConfigParser import ConfigParser    # If using Python 2.7\n",
    "except ImportError:\n",
    "    from configparser import ConfigParser    # If using Python 3.5\n",
    "config = ConfigParser()\n",
    "config.read('config.ini')\n",
    "sys.path.append(os.path.realpath(config.get('zeno_interface', 'repository_path')))\n",
    "from video_sources import *\n",
    "from zeno_interface import *\n",
    "sys.path.append(os.path.realpath(config.get('facial_landmark_tracker', 'repository_path')))\n",
    "from ibug_face_tracker import *\n",
    "from zeno_face_tracker import *\n",
    "print('All modules imported.')"
   ]
  },
  {
   "cell_type": "markdown",
   "metadata": {},
   "source": [
    "## Step 2: Load examples and split them into a training set and a validation set"
   ]
  },
  {
   "cell_type": "code",
   "execution_count": 34,
   "metadata": {},
   "outputs": [
    {
     "name": "stdout",
     "output_type": "stream",
     "text": [
      "All 5901 examples loaded.\n",
      "We have 4721 training examples and 1180 validation examples.\n"
     ]
    }
   ],
   "source": [
    "examples = pd.read_pickle(os.path.realpath('./dataset2/all_enhanced_samples.pkl'))\n",
    "examples = [examples.iloc[idx].to_dict() for idx in range(examples.shape[0])]\n",
    "for example in examples:\n",
    "    # Add aligned iris points into landmarks:\n",
    "    left_iris = example['aligned_eye_points'][1:6].mean(axis=0)\n",
    "    right_iris = example['aligned_eye_points'][8:13].mean(axis=0)\n",
    "    example['aligned_landmarks'] = np.vstack((example['aligned_landmarks'], left_iris, right_iris))\n",
    "print('All %d examples loaded.' % len(examples))\n",
    "indices = np.random.permutation(len(examples))\n",
    "validation_indices = indices[0: int(len(indices) / 5)]\n",
    "training_indices = indices[len(validation_indices):]\n",
    "training_examples = [examples[idx] for idx in training_indices]\n",
    "validation_examples = [examples[idx] for idx in validation_indices]\n",
    "print('We have %d training examples and %d validation examples.' % \n",
    "      (len(training_examples), len(validation_examples)))"
   ]
  },
  {
   "cell_type": "markdown",
   "metadata": {},
   "source": [
    "## Step 3: Get default actuator values of the robot"
   ]
  },
  {
   "cell_type": "code",
   "execution_count": 35,
   "metadata": {},
   "outputs": [
    {
     "name": "stdout",
     "output_type": "stream",
     "text": [
      "The default actuator values are: 0.502370, 0.778409, 0.502041, 0.872951, 0.500000, 0.501736, 0.157534\n"
     ]
    }
   ],
   "source": [
    "zeno_head = None\n",
    "try:\n",
    "    zeno_head = ZenoHead(config.get('zeno_interface', 'zeno_ip_address'))\n",
    "    default_actuator_values = zeno_head.get_default_motor_positions()\n",
    "    print('The default actuator values are: ' + ', '.join(['%.06f' % x for x in default_actuator_values]))\n",
    "finally:\n",
    "    if zeno_head is not None:\n",
    "        zeno_head.disconnect()"
   ]
  },
  {
   "cell_type": "markdown",
   "metadata": {},
   "source": [
    "## Step 4: Compute the robot's neutral face shape by averging the examples closest to the default acutator values"
   ]
  },
  {
   "cell_type": "code",
   "execution_count": 36,
   "metadata": {},
   "outputs": [
    {
     "data": {
      "image/png": "[encoded data removed]",
      "text/plain": [
       "<Figure size 432x288 with 1 Axes>"
      ]
     },
     "metadata": {},
     "output_type": "display_data"
    }
   ],
   "source": [
    "%matplotlib inline\n",
    "\n",
    "actuator_values_tr = np.array([x['actuator_values'] for x in training_examples])\n",
    "distances_to_neutral = [np.linalg.norm(x) for x in actuator_values_tr - default_actuator_values]\n",
    "neutral_shape_indices = [idx for idx in range(len(distances_to_neutral)) if distances_to_neutral[idx] < 1e-2]\n",
    "neutral_shape = np.array([training_examples[idx]['aligned_landmarks'] for idx in neutral_shape_indices]).mean(axis=0)\n",
    "\n",
    "ax = plt.subplot(1, 1, 1)\n",
    "plt.scatter(neutral_shape[:, 0], neutral_shape[:, 1])\n",
    "ax.set_aspect('equal', 'datalim')\n",
    "ax.invert_yaxis()\n",
    "plt.title('neutral shape')\n",
    "plt.show()"
   ]
  },
  {
   "cell_type": "markdown",
   "metadata": {},
   "source": [
    "## Step 5: Calculate displacement from neutral face and build a 'shape model' around this"
   ]
  },
  {
   "cell_type": "code",
   "execution_count": 37,
   "metadata": {},
   "outputs": [
    {
     "data": {
      "image/png": "[encoded data removed]",
      "text/plain": [
       "<Figure size 432x288 with 1 Axes>"
      ]
     },
     "metadata": {},
     "output_type": "display_data"
    },
    {
     "name": "stdout",
     "output_type": "stream",
     "text": [
      "You need 35 dimensions to get 99.5% variation.\n"
     ]
    }
   ],
   "source": [
    "%matplotlib inline\n",
    "\n",
    "for example in examples:\n",
    "    example['displacement_from_neutral'] = example['aligned_landmarks'] - neutral_shape\n",
    "flattened_displacement_tr = np.array([x['displacement_from_neutral'].flatten() for x in training_examples])\n",
    "mean_tr = flattened_displacement_tr.mean(axis=0)\n",
    "std_tr = flattened_displacement_tr.std(axis=0)\n",
    "flattened_displacement_tr = np.divide(flattened_displacement_tr - mean_tr, std_tr)\n",
    "\n",
    "eigen_values, eigen_vectors = np.linalg.eig(np.cov(flattened_displacement_tr.T))\n",
    "eigen_values = np.real(eigen_values)\n",
    "cumulative_eigen_values = [np.sum(eigen_values[0: x + 1]) / np.sum(eigen_values) \n",
    "                           for x in range(len(eigen_values))]\n",
    "\n",
    "plt.plot(cumulative_eigen_values)\n",
    "plt.grid(b=True, which='major')\n",
    "plt.grid(b=True, which='minor')\n",
    "plt.show()\n",
    "\n",
    "dims995 = len([x for x in cumulative_eigen_values if x <= 0.995]) + 1\n",
    "print('You need %d dimensions to get 99.5%% variation.' % dims995)\n",
    "pca_basis = np.real(eigen_vectors)\n",
    "flattened_displacement_tr_pca = np.matmul(flattened_displacement_tr, pca_basis)"
   ]
  },
  {
   "cell_type": "markdown",
   "metadata": {},
   "source": [
    "# Step 6: Train the model (currently just linear regression)!"
   ]
  },
  {
   "cell_type": "code",
   "execution_count": 38,
   "metadata": {},
   "outputs": [
    {
     "name": "stdout",
     "output_type": "stream",
     "text": [
      "This is the MAE validation error: \n",
      "[0.01410409 0.0366411  0.04901702 0.02995797 0.08600465 0.04117203\n",
      " 0.02782642]\n"
     ]
    }
   ],
   "source": [
    "actuator_values_tr = np.array([x['actuator_values'] for x in training_examples])\n",
    "flattened_displacement_tr_pca_cut = flattened_displacement_tr_pca[:, 0: dims995]\n",
    "lr_coefs = np.linalg.lstsq(np.hstack((flattened_displacement_tr_pca_cut, \n",
    "                                      np.ones((flattened_displacement_tr_pca_cut.shape[0], 1)))), \n",
    "                           actuator_values_tr, rcond=None)\n",
    "\n",
    "# Test the stuff\n",
    "actuator_values_val = np.array([x['actuator_values'] for x in validation_examples])\n",
    "flattened_displacement_val = np.array([x['displacement_from_neutral'].flatten() for x in validation_examples])\n",
    "flattened_displacement_val = np.divide(flattened_displacement_val - mean_tr, std_tr)\n",
    "flattened_displacement_val_pca = np.matmul(flattened_displacement_val, pca_basis)\n",
    "flattened_displacement_val_pca_cut = flattened_displacement_val_pca[:, 0: dims995]\n",
    "predictions_val = np.matmul(np.hstack((flattened_displacement_val_pca_cut, \n",
    "                                       np.ones((flattened_displacement_val_pca_cut.shape[0], 1)))), \n",
    "                            lr_coefs[0])\n",
    "errors = (predictions_val - actuator_values_val)\n",
    "print('This is the MAE validation error: ')\n",
    "print(np.abs(errors).mean(axis=0))"
   ]
  },
  {
   "cell_type": "markdown",
   "metadata": {},
   "source": [
    "# Step 7: Track the MultiPIE data"
   ]
  },
  {
   "cell_type": "code",
   "execution_count": 40,
   "metadata": {},
   "outputs": [
    {
     "name": "stdout",
     "output_type": "stream",
     "text": [
      "Done.\n"
     ]
    }
   ],
   "source": [
    "dataset_folder = os.path.realpath('./dataset3')\n",
    "multipie_images = glob.glob(os.path.join(dataset_folder, '*.png'))\n",
    "ert_model_path = config.get('facial_landmark_tracker', 'ert_model_path')\n",
    "auxiliary_model_path = config.get('facial_landmark_tracker', 'auxiliary_model_path')\n",
    "tracker = FaceTracker(ert_model_path, auxiliary_model_path)\n",
    "tracker.face_detection_scale = 2.0\n",
    "tracker.minimum_face_size = 48\n",
    "tracker.hard_failure_threshold = -1e6\n",
    "multipie_landmarks = []\n",
    "multipie_fitting_scores = []\n",
    "for image_file in multipie_images:\n",
    "    image = cv2.cvtColor(cv2.imread(image_file), cv2.COLOR_BGR2GRAY)\n",
    "    tracker.reset()\n",
    "    tracker.track(image)\n",
    "    if tracker.has_facial_landmarks:\n",
    "        left_iris = np.mean(tracker.eye_landmarks[1:6], axis=0)\n",
    "        right_iris = np.mean(tracker.eye_landmarks[7:13], axis=0)\n",
    "        multipie_fitting_scores.append(tracker.most_recent_fitting_scores.astype(float))\n",
    "        multipie_landmarks.append(np.vstack((tracker.facial_landmarks, left_iris, right_iris)).astype(float))\n",
    "multipie_fitting_scores = np.array(multipie_fitting_scores).max(axis=1)\n",
    "print('Done.')"
   ]
  },
  {
   "cell_type": "markdown",
   "metadata": {},
   "source": [
    "## Step 7.1: Add CK into the mix"
   ]
  },
  {
   "cell_type": "code",
   "execution_count": 41,
   "metadata": {},
   "outputs": [
    {
     "name": "stdout",
     "output_type": "stream",
     "text": [
      "Done.\n"
     ]
    }
   ],
   "source": [
    "ck_folder = os.path.realpath('./dataset3/ck_landmarks/sorted_set')\n",
    "landmark_files = glob.glob(os.path.join(ck_folder, '*/*.landmarks.txt'))\n",
    "for landmark_file in landmark_files:\n",
    "    with open(landmark_file) as landmarks:\n",
    "        head_pose_line = landmarks.readline().replace('\\r', '').replace('\\n', '')\n",
    "        eye_points_line = landmarks.readline().replace('\\r', '').replace('\\n', '')\n",
    "        landmarks_line = landmarks.readline().replace('\\r', '').replace('\\n', '')\n",
    "        tags_line = landmarks.readline().replace('\\r', '').replace('\\n', '')\n",
    "        fitting_scores_line = landmarks.readline().replace('\\r', '').replace('\\n', '')\n",
    "        validity = int(tags_line.split(' ')[0])\n",
    "        if validity > 0:\n",
    "            fitting_score = np.array([float(x) for x in fitting_scores_line.split(' ') if len(x) > 0]).max()\n",
    "            facial_landmarks = np.array([float(x) for x in landmarks_line.split(' ') if len(x) > 0]).reshape(-1, 2)\n",
    "            eye_points = np.array([float(x) for x in eye_points_line.split(' ') if len(x) > 0]).reshape(-1, 2)\n",
    "            left_iris = np.mean(eye_points[0:5], axis=0)\n",
    "            right_iris = np.mean(eye_points[5:], axis=0)\n",
    "            multipie_landmarks.append(np.vstack((facial_landmarks, left_iris, right_iris)))\n",
    "            multipie_fitting_scores = np.append(multipie_fitting_scores, fitting_score)\n",
    "            multipie_images.append(landmark_file)\n",
    "print('Done.')"
   ]
  },
  {
   "cell_type": "markdown",
   "metadata": {},
   "source": [
    "## Step 8: Filter the MultiPIE landmarks and build 'shape model'"
   ]
  },
  {
   "cell_type": "code",
   "execution_count": 42,
   "metadata": {},
   "outputs": [
    {
     "data": {
      "image/png": "[encoded data removed]",
      "text/plain": [
       "<Figure size 432x288 with 1 Axes>"
      ]
     },
     "metadata": {},
     "output_type": "display_data"
    },
    {
     "data": {
      "image/png": "[encoded data removed]",
      "text/plain": [
       "<Figure size 432x288 with 1 Axes>"
      ]
     },
     "metadata": {},
     "output_type": "display_data"
    },
    {
     "name": "stdout",
     "output_type": "stream",
     "text": [
      "You need 35 dimensions to get 99.5% variation.\n"
     ]
    }
   ],
   "source": [
    "# Filter MultiPIE data\n",
    "fitting_score_threshold = multipie_fitting_scores.mean() - 2 * multipie_fitting_scores.std()\n",
    "multipie_data = [{'image_file': multipie_images[idx], 'landmarks': multipie_landmarks[idx]} \n",
    "                 for idx in range(len(multipie_fitting_scores)) \n",
    "                 if multipie_fitting_scores[idx] > fitting_score_threshold]\n",
    "\n",
    "# Find the neutral faces\n",
    "neutral_face_images = (glob.glob(os.path.join(dataset_folder, '*_01_01_050_*.png')) + \n",
    "                       glob.glob(os.path.join(dataset_folder, '*_01_01_140_*.png')) + \n",
    "                       glob.glob(os.path.join(ck_folder, 'neutral/*.landmarks.txt')))\n",
    "multipie_data_neutral = [x for x in multipie_data if x['image_file'] in neutral_face_images]\n",
    "\n",
    "# Caculate mean face\n",
    "all_normalised_landmarks = []\n",
    "for sample in multipie_data:\n",
    "    face_size = np.linalg.norm(sample['landmarks'].max(axis=0) - sample['landmarks'].min(axis=0))\n",
    "    all_normalised_landmarks.append((sample['landmarks'] - sample['landmarks'].mean(axis=0)) / face_size)\n",
    "multipie_mean_shape = np.array(all_normalised_landmarks).mean(axis=0)\n",
    "\n",
    "# Align everything to the mean face\n",
    "anchors = [int(x) for x in config.get('data_organisation', 'alignment_anchors').strip().replace(\n",
    "    ' ', '').replace('\\'', '').replace('\\\"', '').split(',') if len(x) > 0]\n",
    "for sample in multipie_data:\n",
    "    transform = compute_rigid_alignment_parameters(sample['landmarks'][anchors], multipie_mean_shape[anchors])\n",
    "    sample['aligned_landmarks'] = apply_rigid_alignment_parameters(sample['landmarks'], *transform)\n",
    "\n",
    "# Get neutral shape\n",
    "multipie_neutral_shape = np.array([x['aligned_landmarks'] for x in multipie_data_neutral]).mean(axis=0)\n",
    "ax = plt.subplot(1, 1, 1)\n",
    "plt.scatter(multipie_neutral_shape[:, 0], multipie_neutral_shape[:, 1])\n",
    "ax.set_aspect('equal', 'datalim')\n",
    "ax.invert_yaxis()\n",
    "plt.title('MultiPIE neutral shape')\n",
    "plt.show()\n",
    "\n",
    "# Calculate displacement from neutral shape\n",
    "for sample in multipie_data:\n",
    "    sample['displacement_from_neutral'] = sample['aligned_landmarks'] - multipie_neutral_shape\n",
    "\n",
    "# PCA the displacements\n",
    "multipie_flattened_displacement = np.array([x['displacement_from_neutral'].flatten() for x in multipie_data])\n",
    "multipie_mean = multipie_flattened_displacement.mean(axis=0)\n",
    "multipie_std = multipie_flattened_displacement.std(axis=0)\n",
    "multipie_flattened_displacement = np.divide(multipie_flattened_displacement - multipie_mean, multipie_std)\n",
    "\n",
    "eigen_values, eigen_vectors = np.linalg.eig(np.cov(multipie_flattened_displacement.T))\n",
    "eigen_values = np.real(eigen_values)\n",
    "cumulative_eigen_values = [np.sum(eigen_values[0: x + 1]) / np.sum(eigen_values) \n",
    "                           for x in range(len(eigen_values))]\n",
    "\n",
    "plt.plot(cumulative_eigen_values)\n",
    "plt.grid(b=True, which='major')\n",
    "plt.grid(b=True, which='minor')\n",
    "plt.show()\n",
    "\n",
    "multipie_dims995 = len([x for x in cumulative_eigen_values if x <= 0.995]) + 1\n",
    "print('You need %d dimensions to get 99.5%% variation.' % multipie_dims995)\n",
    "multipie_pca_basis = np.real(eigen_vectors)"
   ]
  },
  {
   "cell_type": "markdown",
   "metadata": {},
   "source": [
    "## Step 9: Test the model on live video!"
   ]
  },
  {
   "cell_type": "code",
   "execution_count": 54,
   "metadata": {},
   "outputs": [
    {
     "name": "stdout",
     "output_type": "stream",
     "text": [
      "[0.38216581 0.45304249 1.32228262 0.86134712 0.66744437 0.91085792\n",
      " 0.11852391]\n",
      "[0.37560538 0.42683277 1.23677678 0.85596021 0.8017646  0.95073877\n",
      " 0.134683  ]\n",
      "[0.36963421 0.42577279 1.21563603 0.85173388 0.75932851 0.94724004\n",
      " 0.14715   ]\n",
      "[0.37344814 0.40531977 1.2128826  0.85280394 0.77459593 0.94211806\n",
      " 0.1516759 ]\n",
      "[0.37178799 0.42005149 1.22525605 0.83727167 0.74539472 0.94835287\n",
      " 0.12755591]\n",
      "[0.36838647 0.40858216 1.23882454 0.86215699 0.79992995 0.93529161\n",
      " 0.11909636]\n",
      "[0.37572139 0.40223529 1.30614694 0.88093494 0.929885   0.9550084\n",
      " 0.14553108]\n",
      "[0.36321218 0.36976383 1.30587876 0.87994322 0.94961581 0.96584063\n",
      " 0.12156793]\n",
      "[0.3587823  0.27353564 1.34353565 0.81348024 1.02063594 0.96989992\n",
      " 0.09689652]\n",
      "[0.35504696 0.24566579 1.28806621 0.80864656 1.01273758 0.93093029\n",
      " 0.10218484]\n",
      "[0.35240549 0.25109131 1.28348458 0.86981486 1.10436483 0.99460578\n",
      " 0.08765211]\n",
      "[0.35074882 0.25049579 1.26560848 0.80337648 1.24051929 0.99258972\n",
      " 0.07946332]\n",
      "[0.3249775  0.25215947 1.15484464 0.72023044 1.13614735 0.97403411\n",
      " 0.08032683]\n",
      "[0.30917812 0.25014676 1.20535819 0.72281137 1.22594784 0.92797632\n",
      " 0.05167648]\n",
      "[0.28095516 0.20260559 1.23566456 0.63558197 1.06112907 1.02052861\n",
      " 0.05802485]\n",
      "[0.28954709 0.22806865 1.29655822 0.64619575 1.20598045 1.03103783\n",
      " 0.08112231]\n",
      "[0.28462163 0.24757204 1.2680535  0.71571316 1.07873627 0.96839847\n",
      " 0.07486959]\n",
      "[0.28551252 0.25117811 1.28071282 0.67184564 1.05991411 0.97813073\n",
      " 0.07608081]\n",
      "[0.27953829 0.20621451 1.32433814 0.67813367 1.04915262 0.98320075\n",
      " 0.0754026 ]\n",
      "[0.27111928 0.23086708 1.32431991 0.66898852 1.00855135 1.01135563\n",
      " 0.08410213]\n",
      "[0.28511101 0.23949609 1.37734584 0.68882204 1.06243174 0.96711915\n",
      " 0.09207116]\n",
      "[0.27170441 0.23609163 1.40603275 0.69316807 1.0031975  0.97956995\n",
      " 0.08698173]\n",
      "[0.25250185 0.22493936 1.43094878 0.63253    1.01798245 1.00040174\n",
      " 0.07257415]\n",
      "[0.21506244 0.27714075 1.26624643 0.54471817 0.97097216 1.00493647\n",
      " 0.05914332]\n",
      "[0.23760785 0.27385885 1.53457347 0.53932633 1.03418836 1.0218101\n",
      " 0.09689728]\n",
      "[0.209681   0.23019631 1.43824967 0.56330382 0.90219034 1.01380138\n",
      " 0.07543566]\n",
      "[0.20046146 0.28695679 1.22861425 0.49601707 1.0664237  0.98394494\n",
      " 0.04584732]\n",
      "[0.18767546 0.35880144 0.90091476 0.43732099 0.90399333 0.86311651\n",
      " 0.03455863]\n",
      "[0.16183695 0.38405247 0.58921589 0.31609381 0.85420809 0.79158904\n",
      " 0.04407501]\n",
      "[0.14053    0.29978536 0.65377819 0.42040725 1.12704882 0.82692309\n",
      " 0.07274154]\n",
      "[0.1410289  0.3507729  0.52998963 0.38513858 1.19992456 0.80928001\n",
      " 0.0727643 ]\n",
      "[0.12103436 0.32465778 0.48743884 0.39194309 1.10266732 0.76626387\n",
      " 0.09195401]\n",
      "[0.10476177 0.28377885 0.53213784 0.39857378 0.97083625 0.79879671\n",
      " 0.06936872]\n",
      "[0.06479697 0.24323158 0.71695153 0.34208358 0.76189754 0.84867425\n",
      " 0.09493249]\n",
      "[0.05936213 0.31006154 0.44476773 0.32147963 0.85273188 0.75460396\n",
      " 0.09805281]\n"
     ]
    }
   ],
   "source": [
    "zeno_head = None\n",
    "video_source = None\n",
    "try:\n",
    "    anchors = [int(x) for x in config.get('data_organisation', 'alignment_anchors').strip().replace(\n",
    "        ' ', '').replace('\\'', '').replace('\\\"', '').split(',') if len(x) > 0]\n",
    "#     anchors = list(range(70))\n",
    "    zeno_head = ZenoHead(config.get('zeno_interface', 'zeno_ip_address'))\n",
    "    video_source = ThreadedWebcam(0, 640, 480, 30.0)\n",
    "\n",
    "#     window_title_re = config.get('window_specification', 'title_re')\n",
    "#     window_class_name = config.get('window_specification', 'class_name')\n",
    "#     child_identifier = config.get('window_specification', 'child_identifier')\n",
    "#     window_roi = config.get('window_specification', 'window_roi').replace(\n",
    "#         '\\'', '').replace('\\\"', '').replace('\\t', '').replace(' ', '')\n",
    "#     window_roi = tuple([float(x) for x in window_roi.split(',') if len(x) > 0])\n",
    "#     pywinauto = importlib.import_module('pywinauto')\n",
    "#     top_level_window = pywinauto.Desktop(backend='win32').window(title_re=window_title_re,\n",
    "#                                                                  class_name=window_class_name,\n",
    "#                                                                  visible_only=False)\n",
    "#     if len(child_identifier) > 0:\n",
    "#         window_handle = top_level_window[child_identifier].handle\n",
    "#     else:\n",
    "#         window_handle = top_level_window.handle\n",
    "#     video_source = ThreadedWindowCapture(window_handle, 640, 480, 30.0, window_roi)\n",
    "    \n",
    "    ert_model_path = config.get('facial_landmark_tracker', 'ert_model_path')\n",
    "    auxiliary_model_path = config.get('facial_landmark_tracker', 'auxiliary_model_path')\n",
    "    tracker = FaceTracker(ert_model_path, auxiliary_model_path)\n",
    "    \n",
    "    while True:\n",
    "        is_new_frame, frame = video_source.read(0.01)\n",
    "        if is_new_frame:\n",
    "            tracker.track(frame)\n",
    "            if tracker.has_facial_landmarks:\n",
    "                left_iris = tracker.eye_landmarks[1:6, :].mean(axis=0)\n",
    "                right_iris = tracker.eye_landmarks[8:13, :].mean(axis=0)\n",
    "                all_landmarks = np.vstack((tracker.facial_landmarks, left_iris, right_iris)).astype(float)\n",
    "                transform = compute_rigid_alignment_parameters(all_landmarks[anchors], multipie_mean_shape[anchors])\n",
    "                aligned_landmarks = apply_rigid_alignment_parameters(all_landmarks, *transform)\n",
    "                displacement = aligned_landmarks - multipie_neutral_shape\n",
    "                \n",
    "                flattened_displacement = np.divide(displacement.flatten() - multipie_mean, multipie_std)\n",
    "                flattened_displacement_recon = np.matmul(np.matmul(flattened_displacement, \n",
    "                                                                   multipie_pca_basis[:, 0:multipie_dims995]), \n",
    "                                                         multipie_pca_basis[:, 0:multipie_dims995].T)\n",
    "                feature = np.matmul(flattened_displacement_recon, pca_basis[:, 0:dims995])\n",
    "\n",
    "#                 flattened_displacement = np.divide(displacement.flatten() - mean_tr, std_tr)\n",
    "#                 feature = np.matmul(flattened_displacement, pca_basis[:, 0:dims995])\n",
    "            \n",
    "                actuator_values = np.matmul(feature.tolist() + [1], lr_coefs[0])\n",
    "                zeno_head.move(np.clip(actuator_values, 0.0, 1.0), 40)\n",
    "                print(actuator_values)\n",
    "            tracker.plot_current_result(frame)\n",
    "            cv2.imshow('Tracking', frame)\n",
    "        key = cv2.waitKey(10)\n",
    "        if key == ord('q') or key == ord('Q'):\n",
    "            break\n",
    "finally:\n",
    "    cv2.destroyAllWindows()\n",
    "    if video_source is not None:\n",
    "        video_source.release()\n",
    "    if zeno_head is not None:\n",
    "        zeno_head.reset(400)\n",
    "        time.sleep(1.0)\n",
    "        zeno_head.disconnect()"
   ]
  },
  {
   "cell_type": "code",
   "execution_count": 68,
   "metadata": {},
   "outputs": [
    {
     "name": "stdout",
     "output_type": "stream",
     "text": [
      "Model saved to model.pkl.\n"
     ]
    }
   ],
   "source": [
    "# Save the model\n",
    "model = {}\n",
    "model['mean_shape'] = multipie_mean_shape\n",
    "model['neutral_shape'] = multipie_neutral_shape\n",
    "model['multipie_pca_basis'] = multipie_pca_basis[:, 0:multipie_dims995]\n",
    "model['pca_basis'] = pca_basis[:, 0:dims995]\n",
    "model['lr_coefs'] = lr_coefs\n",
    "model['multipie_mean'] = multipie_mean\n",
    "model['multipie_std'] = multipie_std\n",
    "model['mean_tr'] = mean_tr\n",
    "model['std_tr'] = std_tr\n",
    "model['zeno_neutral_shape'] = neutral_shape\n",
    "model['zeno_mean_shape'] = np.array([x['aligned_landmarks'] for x in examples]).mean(axis=0)\n",
    "with open('model.pkl', 'wb') as model_file:\n",
    "    pickle.dump(model, model_file, protocol=2)\n",
    "print('Model saved to model.pkl.')"
   ]
  },
  {
   "cell_type": "code",
   "execution_count": null,
   "metadata": {},
   "outputs": [],
   "source": []
  }
 ],
 "metadata": {
  "kernelspec": {
   "display_name": "Python 3",
   "language": "python",
   "name": "python3"
  },
  "language_info": {
   "codemirror_mode": {
    "name": "ipython",
    "version": 3
   },
   "file_extension": ".py",
   "mimetype": "text/x-python",
   "name": "python",
   "nbconvert_exporter": "python",
   "pygments_lexer": "ipython3",
   "version": "3.5.5"
  }
 },
 "nbformat": 4,
 "nbformat_minor": 2
}
